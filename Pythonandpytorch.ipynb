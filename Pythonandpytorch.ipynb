{
  "nbformat": 4,
  "nbformat_minor": 0,
  "metadata": {
    "colab": {
      "name": "lab01 solution.ipynb",
      "provenance": [],
      "collapsed_sections": [],
      "toc_visible": true
    },
    "kernelspec": {
      "name": "python3",
      "display_name": "Python 3"
    }
  },
  "cells": [
    {
      "cell_type": "markdown",
      "metadata": {
        "collapsed": true,
        "id": "5fsCX5JKBvKu"
      },
      "source": [
        "In this, we'll get familiar with the Python programming language and the Pytorch machine learning framework. The combination of Python and Pytorch facilitate rapid machine learning development and experimentation, while also being suitable for production-ready systems. \n",
        "\n",
        "you will:\n",
        " - understand Python syntax and control structures\n",
        " - be familiar with Pytorch tensor operations\n",
        "\n"
      ]
    },
    {
      "cell_type": "markdown",
      "metadata": {
        "id": "iSsEeTrTBvKv"
      },
      "source": [
        "## Jupyter Notebooks\n",
        "Most of the coding in this subject is done in Jupyter Notebooks. Each Notebook is made up of cells containing either Markdown formatted text (like this cell) or Python code (like those below). You can run a cell by pressing `<SHIFT>+<ENTER>` or the \"Run\" button at the top of the window.\n",
        "\n",
        "#### Code cells\n",
        "Code cells are edited like a typical text-editor, and running one will execute the Python code it contains, with any outputs displayed below it.\n",
        "\n",
        "#### Markdown cells\n",
        "Markdown cells contain Markdown formatted text (like this cell). To edit the contents, just double click on it. Running a Markdown cell applies the formatting.\n",
        "\n"
      ]
    },
    {
      "cell_type": "markdown",
      "metadata": {
        "id": "8xA16MBFBvKw"
      },
      "source": [
        "## Python practice\n",
        "As it's assumed that you have some programming experience, so we'll just explain how Python may differ from other languages you've seen.\n",
        "\n",
        "Even if you're a very experienced programmer, you should still take your time with this practice exercise to get used to coding in Python."
      ]
    },
    {
      "cell_type": "markdown",
      "metadata": {
        "id": "D5YxvanmBvKx"
      },
      "source": [
        "#### Overview of Python syntax"
      ]
    },
    {
      "cell_type": "code",
      "metadata": {
        "scrolled": true,
        "id": "NjbnUzP5BvKx",
        "colab": {
          "base_uri": "https://localhost:8080/"
        },
        "outputId": "6b2635ab-6025-495b-8226-46c41b771e41"
      },
      "source": [
        "# This is a comment\n",
        "\n",
        "# Python is dynamically typed, so data types are inferred at runtime\n",
        "msg = \"Hello world\"  # string\n",
        "x = 5  # int\n",
        "y = 3.5  # float\n",
        "z = True  # boolean\n",
        "\n",
        "# There is a 'None' keyword, which is similar to null/NULL in other languages\n",
        "a = None\n",
        "\n",
        "# Integer division produces a float value\n",
        "print(5 / 2)  # 2.5\n",
        "# However, there's another operator if we want the result truncated\n",
        "print(5 // 2)  # 2\n",
        "\n",
        "# Any number of variables can be printed at once\n",
        "print(msg, x, y)"
      ],
      "execution_count": null,
      "outputs": [
        {
          "output_type": "stream",
          "text": [
            "2.5\n",
            "2\n",
            "Hello world 5 3.5\n"
          ],
          "name": "stdout"
        }
      ]
    },
    {
      "cell_type": "code",
      "metadata": {
        "scrolled": true,
        "id": "zwbeVZrXBvK2",
        "colab": {
          "base_uri": "https://localhost:8080/"
        },
        "outputId": "c2eb47d2-3d4c-4c96-8656-4e8a2dfb9961"
      },
      "source": [
        "# Code blocks are indicated using indentation instead of curly braces. If\n",
        "# statements don't require parentheses\n",
        "if x == y:\n",
        "    print(\"x has the same value as y\")\n",
        "else:\n",
        "    print(\"x and y have different values\")"
      ],
      "execution_count": null,
      "outputs": [
        {
          "output_type": "stream",
          "text": [
            "x and y have different values\n"
          ],
          "name": "stdout"
        }
      ]
    },
    {
      "cell_type": "code",
      "metadata": {
        "scrolled": true,
        "id": "KSfJ5uqMBvK5",
        "colab": {
          "base_uri": "https://localhost:8080/"
        },
        "outputId": "441c1c4d-9aab-41f6-f97c-1b4ba62d9c7d"
      },
      "source": [
        "# Chained conditionals use \"elif\" instead of \"else if\"\n",
        "if x < 0:\n",
        "    print(\"x is negative\")\n",
        "elif x > 0:\n",
        "    print(\"x is positive\")\n",
        "else:\n",
        "    print(\"x is zero\")"
      ],
      "execution_count": null,
      "outputs": [
        {
          "output_type": "stream",
          "text": [
            "x is positive\n"
          ],
          "name": "stdout"
        }
      ]
    },
    {
      "cell_type": "code",
      "metadata": {
        "scrolled": true,
        "id": "MCHvu6WSBvK9",
        "colab": {
          "base_uri": "https://localhost:8080/"
        },
        "outputId": "0f71925d-a53f-4623-9a46-eb5db39e1cbb"
      },
      "source": [
        "# Boolean operators are the English words \"and\", \"or\", \"not\"\n",
        "if x > 0 or y > 0:\n",
        "    print(\"at least one of x and y are positive\")"
      ],
      "execution_count": null,
      "outputs": [
        {
          "output_type": "stream",
          "text": [
            "at least one of x and y are positive\n"
          ],
          "name": "stdout"
        }
      ]
    },
    {
      "cell_type": "code",
      "metadata": {
        "scrolled": true,
        "id": "mgzMalOyBvLB",
        "colab": {
          "base_uri": "https://localhost:8080/"
        },
        "outputId": "6d18e8d7-7c46-4309-a469-4ccfa7bfa0fd"
      },
      "source": [
        "# while loops don't require parentheses either\n",
        "while x > 0:\n",
        "    print(\"x equals\", x)\n",
        "    x -= 1"
      ],
      "execution_count": null,
      "outputs": [
        {
          "output_type": "stream",
          "text": [
            "x equals 5\n",
            "x equals 4\n",
            "x equals 3\n",
            "x equals 2\n",
            "x equals 1\n"
          ],
          "name": "stdout"
        }
      ]
    },
    {
      "cell_type": "code",
      "metadata": {
        "scrolled": true,
        "id": "sr6lAvvvBvLF",
        "colab": {
          "base_uri": "https://localhost:8080/"
        },
        "outputId": "8980af24-bb3b-499e-b166-e6f563c9df82"
      },
      "source": [
        "# Functions use the keyword \"def\"\n",
        "def add_two_numbers(num_1, num_2):\n",
        "    return num_1 + num_2\n",
        "\n",
        "summed = add_two_numbers(5, 3)\n",
        "print(summed)"
      ],
      "execution_count": null,
      "outputs": [
        {
          "output_type": "stream",
          "text": [
            "8\n"
          ],
          "name": "stdout"
        }
      ]
    },
    {
      "cell_type": "markdown",
      "metadata": {
        "id": "YScjb54CBvLI"
      },
      "source": [
        "#### Exercise 1\n",
        "<font color='red'>In the next cell, write a function called `maximum` that takes two values and returns the larger of the two, using an if statement.</font>\n",
        "\n",
        "_Ensure that you re-run the cell containing your solution any time you make changes._"
      ]
    },
    {
      "cell_type": "code",
      "metadata": {
        "id": "Hujx3YLnBvLJ"
      },
      "source": [
        "# TODO: Code your solution here\n",
        "\n",
        "# SOLUTION:\n",
        "def maximum(l, r):\n",
        "    if l > r:\n",
        "        return l\n",
        "    return r\n",
        "\n",
        "# Also valid\n",
        "def maximum(l, r):\n",
        "    return l if l > r else r"
      ],
      "execution_count": null,
      "outputs": []
    },
    {
      "cell_type": "code",
      "metadata": {
        "id": "CC4OEZF_BvLP",
        "colab": {
          "base_uri": "https://localhost:8080/"
        },
        "outputId": "163016b7-e36f-4db3-d20d-004bc4e19ab2"
      },
      "source": [
        "# Test your solution here\n",
        "print(maximum(5, 3))   # should output 5\n",
        "print(maximum(-5, 3))  # should output 3\n",
        "print(maximum(0, 0))   # should output 0"
      ],
      "execution_count": null,
      "outputs": [
        {
          "output_type": "stream",
          "text": [
            "5\n",
            "3\n",
            "0\n"
          ],
          "name": "stdout"
        }
      ]
    },
    {
      "cell_type": "markdown",
      "metadata": {
        "id": "gRJlo00XBvLS"
      },
      "source": [
        "#### Python lists\n",
        "\n",
        "Python has two ordered data structures - `tuple` and `list`.\n",
        "\n",
        "Lists are the most frequently used of the two, as they are quite flexible and provide many functions to manipulate their entries."
      ]
    },
    {
      "cell_type": "code",
      "metadata": {
        "scrolled": true,
        "id": "tHUwDIkbBvLT",
        "colab": {
          "base_uri": "https://localhost:8080/"
        },
        "outputId": "786b762a-c9f2-4ef1-dce8-02bbd57c2492"
      },
      "source": [
        "# Create a list and append to it\n",
        "my_list = [1, 2, 3]\n",
        "my_list.append(4)\n",
        "print(my_list)\n",
        "\n",
        "# The length of the list\n",
        "print(len(my_list))"
      ],
      "execution_count": null,
      "outputs": [
        {
          "output_type": "stream",
          "text": [
            "[1, 2, 3, 4]\n",
            "4\n"
          ],
          "name": "stdout"
        }
      ]
    },
    {
      "cell_type": "code",
      "metadata": {
        "id": "M96dhW5gBvLW",
        "colab": {
          "base_uri": "https://localhost:8080/"
        },
        "outputId": "63209155-25d9-493d-9bd8-51d32d176b56"
      },
      "source": [
        "# Concatenate two lists\n",
        "concat_list = [1, 2, 3] + [4, 5]\n",
        "print(concat_list)"
      ],
      "execution_count": null,
      "outputs": [
        {
          "output_type": "stream",
          "text": [
            "[1, 2, 3, 4, 5]\n"
          ],
          "name": "stdout"
        }
      ]
    },
    {
      "cell_type": "code",
      "metadata": {
        "id": "1uOS5wZSBvLZ",
        "colab": {
          "base_uri": "https://localhost:8080/"
        },
        "outputId": "12bb5eb3-c1af-47ff-b93b-3aca1f8dd247"
      },
      "source": [
        "# Indexing is zero-based\n",
        "print(my_list[0], my_list[1])\n",
        "\n",
        "# Negative indexing counts from the end of the list\n",
        "print(my_list[-1], my_list[-2])"
      ],
      "execution_count": null,
      "outputs": [
        {
          "output_type": "stream",
          "text": [
            "1 2\n",
            "4 3\n"
          ],
          "name": "stdout"
        }
      ]
    },
    {
      "cell_type": "code",
      "metadata": {
        "id": "kXib--mBBvLd",
        "colab": {
          "base_uri": "https://localhost:8080/"
        },
        "outputId": "5f382aaa-7234-4d75-e76c-40b61b231696"
      },
      "source": [
        "# Lists and tuples can be iterated over with the \"in\" keyword\n",
        "for x in ['a', 'b', 'c']:\n",
        "    print(x)"
      ],
      "execution_count": null,
      "outputs": [
        {
          "output_type": "stream",
          "text": [
            "a\n",
            "b\n",
            "c\n"
          ],
          "name": "stdout"
        }
      ]
    },
    {
      "cell_type": "markdown",
      "metadata": {
        "id": "4Inwjq6-BvLg"
      },
      "source": [
        "Tuples are immutable data structures, which means that their values can't be modified. They should be used where practical, as not only are they faster than lists, their immutability makes your code a little safer. For these reasons, you will mostly see tuples used for short sequences, particularly to describe things like the dimensions of an image.\n",
        "\n",
        "Their entries can be accessed in the same ways as lists like negative indexing, iterating, etc, so it's possible to write code which supports lists and tuples interchangeably - as we'll do in the next exercise."
      ]
    },
    {
      "cell_type": "code",
      "metadata": {
        "id": "X5UJeSW8BvLh",
        "colab": {
          "base_uri": "https://localhost:8080/"
        },
        "outputId": "38b54911-1d99-48d3-ecfe-39d289074257"
      },
      "source": [
        "# Create a tuple. The difference in notation is that lists use square brackets\n",
        "# and tuples use round parentheses\n",
        "my_tuple = (1, 2, 3)\n",
        "\n",
        "print(my_tuple)\n",
        "print(my_tuple[0])\n",
        "\n",
        "# Try to modify a value in-place and see what happens\n",
        "# my_tuple[0] = -1\n",
        "print(my_tuple)"
      ],
      "execution_count": null,
      "outputs": [
        {
          "output_type": "stream",
          "text": [
            "(1, 2, 3)\n",
            "1\n",
            "(1, 2, 3)\n"
          ],
          "name": "stdout"
        }
      ]
    },
    {
      "cell_type": "markdown",
      "metadata": {
        "id": "sTtyt3lYBvLk"
      },
      "source": [
        "#### Exercise 2\n",
        "<font color='red'>In the next cell, write a function called `arr_max` that takes a list (or tuple) and returns the largest element using a `for` loop and the `maximum` function you wrote in exercise 1. If the list is empty, return `None`.</font>\n",
        "\n",
        "_Ensure that you re-run the cell containing your solution any time you make changes._"
      ]
    },
    {
      "cell_type": "code",
      "metadata": {
        "id": "h4N4AaWiBvLl"
      },
      "source": [
        "# TODO: Code your solution here\n",
        "\n",
        "# SOLUTION:\n",
        "def arr_max(my_list):\n",
        "    if len(my_list) == 0:\n",
        "        return None\n",
        "\n",
        "    max_val = my_list[0]\n",
        "    for val in my_list:\n",
        "        max_val = maximum(max_val, val)\n",
        "    return max_val\n",
        "\n",
        "# ALT SOLUTION\n",
        "def arr_max(my_list):\n",
        "    max_val = my_list[0] if my_list else None\n",
        "\n",
        "    for val in my_list:\n",
        "        max_val = maximum(val, max_val)\n",
        "    return max_val"
      ],
      "execution_count": null,
      "outputs": []
    },
    {
      "cell_type": "code",
      "metadata": {
        "scrolled": true,
        "id": "GereXwJ4BvLo",
        "colab": {
          "base_uri": "https://localhost:8080/"
        },
        "outputId": "5b2bd3e2-0a88-48e1-c3e0-4f77203f7c04"
      },
      "source": [
        "# Test your solution here\n",
        "print(arr_max([-10, -5, 0, 5]))    # should output 5\n",
        "print(arr_max((-10, -5, 0, 5)))    # should output 5 <-  tuple instead of list\n",
        "print(arr_max([4, -1, 23, 6, -1])) # should output 23\n",
        "print(arr_max([1, 1]))             # should output 1\n",
        "print(arr_max([1]))                # should output 1\n",
        "print(arr_max([]))                 # should output None"
      ],
      "execution_count": null,
      "outputs": [
        {
          "output_type": "stream",
          "text": [
            "5\n",
            "5\n",
            "23\n",
            "1\n",
            "1\n",
            "None\n"
          ],
          "name": "stdout"
        }
      ]
    },
    {
      "cell_type": "markdown",
      "metadata": {
        "id": "tEO-Ck0jBvLq"
      },
      "source": [
        "## Pytorch practice\n",
        "Pytorch is a GPU-accelerated machine learning framework, which is nicely designed so that very little effort is required to run code on the GPU. \n",
        "\n",
        "In this section we'll practice using Pytorch tensors, which are roughly equivalent to Python lists but with a whole lot of extra capabilities. "
      ]
    },
    {
      "cell_type": "code",
      "metadata": {
        "id": "_sj3sP1vBvLr",
        "colab": {
          "base_uri": "https://localhost:8080/"
        },
        "outputId": "86943c35-3904-445b-b453-394fa620ef47"
      },
      "source": [
        "# Import Pytorch and print out its version\n",
        "import torch\n",
        "print(\"Pytorch version:\", torch.__version__)"
      ],
      "execution_count": null,
      "outputs": [
        {
          "output_type": "stream",
          "text": [
            "Pytorch version: 1.8.1+cu101\n"
          ],
          "name": "stdout"
        }
      ]
    },
    {
      "cell_type": "markdown",
      "metadata": {
        "id": "7OwDMVpiBvLu"
      },
      "source": [
        "#### Tensor basics"
      ]
    },
    {
      "cell_type": "code",
      "metadata": {
        "id": "WGCobGcOBvLv",
        "colab": {
          "base_uri": "https://localhost:8080/"
        },
        "outputId": "44b3670a-4f88-435c-bda6-83e0d4a532ee"
      },
      "source": [
        "# Tensors can be initialised with Python lists\n",
        "my_list = [1.5, 2.5, 3.5]\n",
        "my_tensor = torch.tensor(my_list)\n",
        "\n",
        "print(my_list, my_tensor)\n",
        "\n",
        "# This is a 1-dimensional tensor as it is just a flat list of values\n",
        "print(len(my_list), len(my_tensor))"
      ],
      "execution_count": null,
      "outputs": [
        {
          "output_type": "stream",
          "text": [
            "[1.5, 2.5, 3.5] tensor([1.5000, 2.5000, 3.5000])\n",
            "3 3\n"
          ],
          "name": "stdout"
        }
      ]
    },
    {
      "cell_type": "code",
      "metadata": {
        "id": "XmNcFzQABvLx",
        "colab": {
          "base_uri": "https://localhost:8080/"
        },
        "outputId": "f411c4f7-0099-409a-8a34-6fa1eaa849eb"
      },
      "source": [
        "# Tensors allow for operations to be applied on the whole collection at once\n",
        "print(my_tensor * 2)\n",
        "\n",
        "# What happens if we try the same thing on a python list? Uncomment the\n",
        "# following line and run it to find out\n",
        "# print(my_list / 2)"
      ],
      "execution_count": null,
      "outputs": [
        {
          "output_type": "stream",
          "text": [
            "tensor([3., 5., 7.])\n"
          ],
          "name": "stdout"
        }
      ]
    },
    {
      "cell_type": "code",
      "metadata": {
        "id": "dzBVFTFDBvL3",
        "colab": {
          "base_uri": "https://localhost:8080/"
        },
        "outputId": "a8ca8eb8-7430-4d33-c7b2-72e73409221d"
      },
      "source": [
        "# The data type is inferred when a tensor is initialised. You can access the\n",
        "# data type of a tensor by using `dtype`\n",
        "my_int_tensor = torch.tensor([1, 2, 3])\n",
        "print(my_int_tensor.dtype)\n",
        "\n",
        "# To cast the tensor, use the \"type\" function\n",
        "my_float_tensor = my_int_tensor.type(torch.float)\n",
        "\n",
        "print(my_float_tensor.dtype)\n",
        "print(my_float_tensor)"
      ],
      "execution_count": null,
      "outputs": [
        {
          "output_type": "stream",
          "text": [
            "torch.int64\n",
            "torch.float32\n",
            "tensor([1., 2., 3.])\n"
          ],
          "name": "stdout"
        }
      ]
    },
    {
      "cell_type": "code",
      "metadata": {
        "id": "eQnEaTnrBvL6",
        "colab": {
          "base_uri": "https://localhost:8080/"
        },
        "outputId": "fbba11bf-f141-43b7-f2da-77056fca1a80"
      },
      "source": [
        "# We can specify the dtype when initialising a tensor\n",
        "my_float_tensor = torch.tensor([1, 2, 3], dtype=torch.float)\n",
        "print(my_float_tensor.dtype)\n",
        "\n",
        "# Or we can use float values in our initialisation (by adding a decimal point)\n",
        "my_float_tensor = torch.tensor([1., 2, 3])\n",
        "print(my_float_tensor.dtype)"
      ],
      "execution_count": null,
      "outputs": [
        {
          "output_type": "stream",
          "text": [
            "torch.float32\n",
            "torch.float32\n"
          ],
          "name": "stdout"
        }
      ]
    },
    {
      "cell_type": "code",
      "metadata": {
        "id": "zpsskFZ_BvL8",
        "colab": {
          "base_uri": "https://localhost:8080/"
        },
        "outputId": "0dc92464-53c4-48af-d45d-91a52eebea4e"
      },
      "source": [
        "# Tensors can be operated on by a scalar\n",
        "my_float_tensor = my_float_tensor * 2.5 + 3\n",
        "\n",
        "# Tensors can operate element-wise on one-another\n",
        "another_tensor = torch.tensor([2, 4, 8])\n",
        "\n",
        "print(my_float_tensor + another_tensor)\n",
        "print(my_float_tensor - another_tensor)\n",
        "print(my_float_tensor * another_tensor)\n",
        "print(my_float_tensor / another_tensor)"
      ],
      "execution_count": null,
      "outputs": [
        {
          "output_type": "stream",
          "text": [
            "tensor([ 7.5000, 12.0000, 18.5000])\n",
            "tensor([3.5000, 4.0000, 2.5000])\n",
            "tensor([11., 32., 84.])\n",
            "tensor([2.7500, 2.0000, 1.3125])\n"
          ],
          "name": "stdout"
        }
      ]
    },
    {
      "cell_type": "markdown",
      "metadata": {
        "id": "-h9G6WJ8BvMA"
      },
      "source": [
        "#### Tensor initialisation"
      ]
    },
    {
      "cell_type": "code",
      "metadata": {
        "id": "bn5Mxeu6BvMB",
        "colab": {
          "base_uri": "https://localhost:8080/"
        },
        "outputId": "440f325b-572e-443f-b9dd-a9ffdefd40e2"
      },
      "source": [
        "# It's common to want a tensor full of zeros or ones.\n",
        "# Pytorch provides helper functions where we simply give our desired size\n",
        "ones_tensor = torch.ones(5)\n",
        "zeros_tensor = torch.zeros(3)\n",
        "print(ones_tensor, zeros_tensor)\n",
        "\n",
        "# We might also like a tensor of increasing numbers\n",
        "range_tensor = torch.arange(5)\n",
        "print(range_tensor)"
      ],
      "execution_count": null,
      "outputs": [
        {
          "output_type": "stream",
          "text": [
            "tensor([1., 1., 1., 1., 1.]) tensor([0., 0., 0.])\n",
            "tensor([0, 1, 2, 3, 4])\n"
          ],
          "name": "stdout"
        }
      ]
    },
    {
      "cell_type": "code",
      "metadata": {
        "id": "GSntTfPVBvMI",
        "colab": {
          "base_uri": "https://localhost:8080/"
        },
        "outputId": "bfc2f745-f2bb-47e6-aa4a-a7c2c56b5d15"
      },
      "source": [
        "# Another common tensor is the identity matrix\n",
        "identity_matrix = torch.eye(3)\n",
        "print(identity_matrix)\n",
        "\n",
        "# The identity matrix we created has two dimensions, meaning that it consists of\n",
        "# both rows and columns. The number of rows and columns is called its \"shape\"\n",
        "print(identity_matrix.shape)\n",
        "\n",
        "# We can make our own 2D matrix by manually initialising it with values. This\n",
        "# tensor has two rows and three columns\n",
        "my_matrix = torch.tensor([[0, 1, 2],\n",
        "                          [3, 4, 5]])\n",
        "print(my_matrix.shape) "
      ],
      "execution_count": null,
      "outputs": [
        {
          "output_type": "stream",
          "text": [
            "tensor([[1., 0., 0.],\n",
            "        [0., 1., 0.],\n",
            "        [0., 0., 1.]])\n",
            "torch.Size([3, 3])\n",
            "torch.Size([2, 3])\n"
          ],
          "name": "stdout"
        }
      ]
    },
    {
      "cell_type": "code",
      "metadata": {
        "id": "Jm-2rGHaBvMM",
        "colab": {
          "base_uri": "https://localhost:8080/"
        },
        "outputId": "e29c7f5d-d6a2-4861-f0c4-c309bb30945f"
      },
      "source": [
        "# Tensors are stored in row-major form, which means the first dimension represents\n",
        "# the rows in a tensor. Thus, indexing into the first dimension of the tensor will\n",
        "# give us back an entire row\n",
        "print(identity_matrix[0])\n",
        "\n",
        "# We can further index into this row to extract a specific value\n",
        "print(identity_matrix[0][0])\n",
        "\n",
        "# Torch provides a way to index into multiple dimensions at once\n",
        "print(identity_matrix[0, 0])"
      ],
      "execution_count": null,
      "outputs": [
        {
          "output_type": "stream",
          "text": [
            "tensor([1., 0., 0.])\n",
            "tensor(1.)\n",
            "tensor(1.)\n"
          ],
          "name": "stdout"
        }
      ]
    },
    {
      "cell_type": "code",
      "metadata": {
        "id": "imNn-iFOBvMP",
        "colab": {
          "base_uri": "https://localhost:8080/"
        },
        "outputId": "49637d65-6a45-462b-8668-de65966db16f"
      },
      "source": [
        "# Let's create a three-dimensional tensor full of zeros\n",
        "zeros_3d = torch.zeros((2, 3, 3))\n",
        "print(zeros_3d.shape)\n",
        "\n",
        "# This tensor has a shape of (2, 3, 3) for a total of 18 values.\n",
        "# We can imagine this as a list of two 3x3 matrices\n",
        "print(zeros_3d)"
      ],
      "execution_count": null,
      "outputs": [
        {
          "output_type": "stream",
          "text": [
            "torch.Size([2, 3, 3])\n",
            "tensor([[[0., 0., 0.],\n",
            "         [0., 0., 0.],\n",
            "         [0., 0., 0.]],\n",
            "\n",
            "        [[0., 0., 0.],\n",
            "         [0., 0., 0.],\n",
            "         [0., 0., 0.]]])\n"
          ],
          "name": "stdout"
        }
      ]
    },
    {
      "cell_type": "markdown",
      "metadata": {
        "id": "ldFqbqv5GB_3"
      },
      "source": [
        "#### Exercise 3\n",
        "<font color='red'>In the next cell, write a function called `almost_eye` that takes a single argument - an integer `N`. Your function will create an identity matrix of size `NxN`, set the bottom-right value of this matrix to the value of `N`, and return it. Hint: consider using negative indexes  </font>\n",
        "\n",
        "_Ensure that you re-run the cell containing your solution any time you make changes._"
      ]
    },
    {
      "cell_type": "code",
      "metadata": {
        "id": "kxUhKJJMGCZ4"
      },
      "source": [
        "# TODO: Code your solution here\n",
        "\n",
        "# SOLUTION:\n",
        "def almost_eye(N):\n",
        "    x = torch.eye(N)\n",
        "    x[-1, -1] = N\n",
        "    return x"
      ],
      "execution_count": null,
      "outputs": []
    },
    {
      "cell_type": "code",
      "metadata": {
        "id": "CYpc0MuyHxv3",
        "colab": {
          "base_uri": "https://localhost:8080/"
        },
        "outputId": "179648c5-9cb6-47e1-b09e-fd3c14f97da7"
      },
      "source": [
        "# Test your solution here\n",
        "print(almost_eye(1))\n",
        "# should output [[1]]\n",
        "\n",
        "print(almost_eye(2))\n",
        "# should output [[1, 0],\n",
        "#                [0, 2]]\n",
        "\n",
        "print(almost_eye(3))\n",
        "# should output [[1, 0, 0],\n",
        "#                [0, 1, 0],\n",
        "#                [0, 0, 3]]"
      ],
      "execution_count": null,
      "outputs": [
        {
          "output_type": "stream",
          "text": [
            "tensor([[1.]])\n",
            "tensor([[1., 0.],\n",
            "        [0., 2.]])\n",
            "tensor([[1., 0., 0.],\n",
            "        [0., 1., 0.],\n",
            "        [0., 0., 3.]])\n"
          ],
          "name": "stdout"
        }
      ]
    },
    {
      "cell_type": "markdown",
      "metadata": {
        "id": "W0XNMM88BvMR"
      },
      "source": [
        "#### Tensor reshaping\n",
        "Tensors can have a shape made up of any number of dimensions, and we can reshape the tensors as we please - as long as it's a valid shape.\n",
        "\n",
        "For example, a completed Sudoku board contains 9x9=81 numbers arranged in a 9x9 matrix. However, these values can be arranged in a number of ways:\n",
        "* a 9x9 grid (shape `(9, 9)`)\n",
        "* a flat list of 81 numbers (shape `(81)`)\n",
        "* three rows of 27 numbers (shape `(3, 27)`)\n",
        "* 27 rows of three columns (shape `(27, 3`)\n",
        "\n",
        "All of these representations are valid, and still represent the same data. Torch allows for us to perform this sort of reshaping with a function called - you guessed it - `reshape`.\n"
      ]
    },
    {
      "cell_type": "code",
      "metadata": {
        "id": "dQw-1Madp7ds",
        "colab": {
          "base_uri": "https://localhost:8080/"
        },
        "outputId": "b7abcacd-9f18-4740-8970-7749634f1245"
      },
      "source": [
        "# Let's initialise a 1D tensor with some values\n",
        "range_tensor = torch.tensor([0, 1, 2, 3, 4, 5, 6, 7, 8])\n",
        "print(range_tensor)\n",
        "print(range_tensor.shape)\n",
        "\n",
        "# Another valid representation of this data is as a 3x3 matrix\n",
        "range_mat = torch.tensor([[0, 1, 2],\n",
        "                          [3, 4, 5],\n",
        "                          [6, 7, 8]])\n",
        "print(range_mat)\n",
        "print(range_mat.shape)\n",
        "\n",
        "# Both of the above tensors have the same number of elements, which we can see\n",
        "# by calling the \"numel\" function\n",
        "print(range_tensor.numel(), range_mat.numel())"
      ],
      "execution_count": null,
      "outputs": [
        {
          "output_type": "stream",
          "text": [
            "tensor([0, 1, 2, 3, 4, 5, 6, 7, 8])\n",
            "torch.Size([9])\n",
            "tensor([[0, 1, 2],\n",
            "        [3, 4, 5],\n",
            "        [6, 7, 8]])\n",
            "torch.Size([3, 3])\n",
            "9 9\n"
          ],
          "name": "stdout"
        }
      ]
    },
    {
      "cell_type": "code",
      "metadata": {
        "id": "Dkw6N58RBvMS",
        "colab": {
          "base_uri": "https://localhost:8080/"
        },
        "outputId": "4ce825ac-89a0-4426-b88f-e14f1a0c1e00"
      },
      "source": [
        "# First, let's create a tensor of numbers 0-9 and observe its shape\n",
        "range_tensor = torch.arange(9, dtype=torch.float)\n",
        "print(range_tensor, range_tensor.shape)\n",
        "\n",
        "# Let's convert this into a 3x3 matrix\n",
        "range_mat = range_tensor.reshape(3, 3)\n",
        "print(range_mat)\n",
        "print(range_mat.shape)"
      ],
      "execution_count": null,
      "outputs": [
        {
          "output_type": "stream",
          "text": [
            "tensor([0., 1., 2., 3., 4., 5., 6., 7., 8.]) torch.Size([9])\n",
            "tensor([[0., 1., 2.],\n",
            "        [3., 4., 5.],\n",
            "        [6., 7., 8.]])\n",
            "torch.Size([3, 3])\n"
          ],
          "name": "stdout"
        }
      ]
    },
    {
      "cell_type": "code",
      "metadata": {
        "id": "pciA1SMQBvMV",
        "colab": {
          "base_uri": "https://localhost:8080/"
        },
        "outputId": "e54b3736-f8a6-4383-ad4f-b9cd5d2ea783"
      },
      "source": [
        "# We can reshape tensors without specifying one dimension (indicated by -1), and\n",
        "# Torch is able to infer the missing dimension size\n",
        "range_mat = range_tensor.reshape(-1, 3)\n",
        "print(range_mat.shape)\n",
        "\n",
        "# We can also flatten the tensor to a single dimension using the same trick.\n",
        "# It turns out flattening tensors is really useful for deep learning!\n",
        "# Since fully connected layers only take 1D tensors.\n",
        "# This will produce a 1D tensor of length 9\n",
        "range_tensor = range_mat.reshape(-1)\n",
        "print(range_tensor, range_tensor.shape)"
      ],
      "execution_count": null,
      "outputs": [
        {
          "output_type": "stream",
          "text": [
            "torch.Size([3, 3])\n",
            "tensor([0., 1., 2., 3., 4., 5., 6., 7., 8.]) torch.Size([9])\n"
          ],
          "name": "stdout"
        }
      ]
    },
    {
      "cell_type": "code",
      "metadata": {
        "id": "9h004T5zBvMY"
      },
      "source": [
        "# Our reshaping has worked so far because we had the right number of elements.\n",
        "# What happens if we try a shape that our data doesn't match? Uncomment each of\n",
        "# the below lines and find out\n",
        "# reshaped_tensor = range_tensor.reshape((3, 4))\n",
        "# reshaped_tensor = range_tensor.reshape((-1, 4))\n",
        "\n",
        "# The two above reshape requests failed as 4 is not a factor of 9. I.e. 9/4\n",
        "# doesn't give a whole number"
      ],
      "execution_count": null,
      "outputs": []
    },
    {
      "cell_type": "code",
      "metadata": {
        "id": "Pn_-Ft62BvMb",
        "colab": {
          "base_uri": "https://localhost:8080/"
        },
        "outputId": "662d765d-c47a-4da4-dcb3-fee188eb23e3"
      },
      "source": [
        "# Let's modify a value in our original tensor\n",
        "range_tensor[0] = -1\n",
        "print(range_tensor)\n",
        "print(range_mat)\n",
        "\n",
        "# We modified the original tensor, but values in the reshaped version were changed too!\n",
        "# This is because when possible, reshape just creates a different \"view\" into the\n",
        "# original tensor, so the tensors still share memory."
      ],
      "execution_count": null,
      "outputs": [
        {
          "output_type": "stream",
          "text": [
            "tensor([-1.,  1.,  2.,  3.,  4.,  5.,  6.,  7.,  8.])\n",
            "tensor([[-1.,  1.,  2.],\n",
            "        [ 3.,  4.,  5.],\n",
            "        [ 6.,  7.,  8.]])\n"
          ],
          "name": "stdout"
        }
      ]
    },
    {
      "cell_type": "code",
      "metadata": {
        "id": "o7v-QDbBBvMd",
        "colab": {
          "base_uri": "https://localhost:8080/"
        },
        "outputId": "c67d3da7-e1d5-48c6-9e64-371ebee19943"
      },
      "source": [
        "# If we don't want them to share memory, we need to explicitly ask for it to be cloned\n",
        "range_tensor_2 = range_tensor.clone()\n",
        "range_tensor_2[0] = 99\n",
        "print(range_tensor)\n",
        "print(range_tensor_2)"
      ],
      "execution_count": null,
      "outputs": [
        {
          "output_type": "stream",
          "text": [
            "tensor([-1.,  1.,  2.,  3.,  4.,  5.,  6.,  7.,  8.])\n",
            "tensor([99.,  1.,  2.,  3.,  4.,  5.,  6.,  7.,  8.])\n"
          ],
          "name": "stdout"
        }
      ]
    },
    {
      "cell_type": "markdown",
      "metadata": {
        "id": "Dz-5ICyxIn79"
      },
      "source": [
        "#### Exercise 4\n",
        "<font color='red'>In the next cell, write a function called `TwoDNumbers` that takes a single argument - an integer `N`. Your function will create an `NxN` matrix containing the values in the range of `[0, N*N)`. Hint: the arange and reshape functions will be useful for this question. </font> \\\n",
        "\n",
        "_Ensure that you re-run the cell containing your solution any time you make changes._"
      ]
    },
    {
      "cell_type": "code",
      "metadata": {
        "id": "vdPuh--uI0zo"
      },
      "source": [
        "# TODO: Code your solution here\n",
        "\n",
        "# SOLUTION:\n",
        "def TwoDNumbers(N):\n",
        "    x = torch.arange(N * N)\n",
        "    return x.reshape((N, N))\n",
        "    "
      ],
      "execution_count": null,
      "outputs": []
    },
    {
      "cell_type": "code",
      "metadata": {
        "id": "0dUAxnvvJBmO",
        "colab": {
          "base_uri": "https://localhost:8080/"
        },
        "outputId": "2e9f9107-09e8-4ac0-dc45-4b64e0e78197"
      },
      "source": [
        "# Test your solution here\n",
        "print(TwoDNumbers(1))  # should output [[0]]\n",
        "print(TwoDNumbers(2))  # should output [[0, 1],\n",
        "                       #                [2, 3]]\n",
        "print(TwoDNumbers(3))  # should output [[0, 1, 2],\n",
        "                       #                [3, 4, 5],\n",
        "                       #                [6, 7, 8]]"
      ],
      "execution_count": null,
      "outputs": [
        {
          "output_type": "stream",
          "text": [
            "tensor([[0]])\n",
            "tensor([[0, 1],\n",
            "        [2, 3]])\n",
            "tensor([[0, 1, 2],\n",
            "        [3, 4, 5],\n",
            "        [6, 7, 8]])\n"
          ],
          "name": "stdout"
        }
      ]
    },
    {
      "cell_type": "code",
      "metadata": {
        "colab": {
          "base_uri": "https://localhost:8080/"
        },
        "id": "VDZNf4wJMYia",
        "outputId": "dc3fe42f-fdad-4373-d04e-6a07f84d0b92"
      },
      "source": [
        "# Lets take the output from the TwoDNumbers function and \n",
        "# just set the whole first row into zeros. You can do that as follows:\n",
        "outputMatrix = TwoDNumbers(3)\n",
        "outputMatrix[0] = 0\n",
        "print(outputMatrix)  # should output [[0, 0, 0],\n",
        "                     #                [3, 4, 5],\n",
        "                     #                [6, 7, 8]]\n"
      ],
      "execution_count": null,
      "outputs": [
        {
          "output_type": "stream",
          "text": [
            "tensor([[0, 0, 0],\n",
            "        [3, 4, 5],\n",
            "        [6, 7, 8]])\n"
          ],
          "name": "stdout"
        }
      ]
    },
    {
      "cell_type": "code",
      "metadata": {
        "id": "ipZU_FMUL91Y",
        "colab": {
          "base_uri": "https://localhost:8080/"
        },
        "outputId": "52d68abc-b519-49de-daea-f39a8a46917f"
      },
      "source": [
        "# Python provides a way for us to take a slice from a\n",
        "# list or tensor - instead of providing a single number as an index, we use two\n",
        "# numbers separated by the colon : symbol\n",
        "\n",
        "# Let's create another range tensor to start with\n",
        "range_tensor = torch.arange(10)\n",
        "print(range_tensor)\n",
        "\n",
        "# Get the elements from index 3 to index 5 (not including index 5)\n",
        "print(range_tensor[3:5])\n",
        "\n",
        "# Get the elements from index 0 to index 4 (not including index 4)\n",
        "print(range_tensor[0:4])\n",
        "\n",
        "# If we don't wish to specify an end-point, we don't need to provide a value.\n",
        "# Get all elements until index 4 (not including index 4)\n",
        "print(range_tensor[:4])\n",
        "\n",
        "# Get all elements from index 4 (including index 4)\n",
        "print(range_tensor[4:])\n",
        "\n",
        "# Using negative indexing, get the last 3 elements\n",
        "print(range_tensor[-3:])"
      ],
      "execution_count": null,
      "outputs": [
        {
          "output_type": "stream",
          "text": [
            "tensor([0, 1, 2, 3, 4, 5, 6, 7, 8, 9])\n",
            "tensor([3, 4])\n",
            "tensor([0, 1, 2, 3])\n",
            "tensor([0, 1, 2, 3])\n",
            "tensor([4, 5, 6, 7, 8, 9])\n",
            "tensor([7, 8, 9])\n"
          ],
          "name": "stdout"
        }
      ]
    },
    {
      "cell_type": "markdown",
      "metadata": {
        "id": "ZqHln4EDBvMg"
      },
      "source": [
        "#### More tensor operations"
      ]
    },
    {
      "cell_type": "code",
      "metadata": {
        "scrolled": true,
        "id": "cMT5IuUUBvMg",
        "colab": {
          "base_uri": "https://localhost:8080/"
        },
        "outputId": "881a1924-c5aa-457e-8ed7-36435f1b5447"
      },
      "source": [
        "# Transpose a tensor (switching its rows and columns)\n",
        "print(range_mat)\n",
        "print(range_mat.T)\n",
        "\n",
        "# Create a tensor full of ones or zeros that has the same shape as another\n",
        "ones_mat = torch.ones_like(range_mat)\n",
        "zeros_mat = torch.zeros_like(ones_mat)\n",
        "print(ones_mat)\n",
        "print(zeros_mat)\n",
        "print(range_mat.shape == ones_mat.shape == zeros_mat.shape)\n",
        "\n",
        "# Create a tensor of random values between 0 and 1\n",
        "rand_mat = torch.rand_like(range_mat)\n",
        "print(rand_mat)\n",
        "\n",
        "# Matrix multiplication\n",
        "print(range_mat @ rand_mat)"
      ],
      "execution_count": null,
      "outputs": [
        {
          "output_type": "stream",
          "text": [
            "tensor([[-1.,  1.,  2.],\n",
            "        [ 3.,  4.,  5.],\n",
            "        [ 6.,  7.,  8.]])\n",
            "tensor([[-1.,  3.,  6.],\n",
            "        [ 1.,  4.,  7.],\n",
            "        [ 2.,  5.,  8.]])\n",
            "tensor([[1., 1., 1.],\n",
            "        [1., 1., 1.],\n",
            "        [1., 1., 1.]])\n",
            "tensor([[0., 0., 0.],\n",
            "        [0., 0., 0.],\n",
            "        [0., 0., 0.]])\n",
            "True\n",
            "tensor([[0.3914, 0.1261, 0.6122],\n",
            "        [0.6931, 0.5466, 0.0046],\n",
            "        [0.4278, 0.4728, 0.5037]])\n",
            "tensor([[ 1.1573,  1.3660,  0.3997],\n",
            "        [ 6.0856,  4.9286,  4.3731],\n",
            "        [10.6225,  8.3652,  7.7343]])\n"
          ],
          "name": "stdout"
        }
      ]
    },
    {
      "cell_type": "markdown",
      "metadata": {
        "id": "mB-YRrGdBvMi"
      },
      "source": [
        "#### Concatenation"
      ]
    },
    {
      "cell_type": "code",
      "metadata": {
        "id": "6JUra4y_BvMj",
        "colab": {
          "base_uri": "https://localhost:8080/"
        },
        "outputId": "0080952f-c6f2-4fa6-d72d-665bfec64fe1"
      },
      "source": [
        "# Python lists allow for concatenation like list1 + list2, but Torch interprets\n",
        "# tensor1 + tensor2 as a summation. So we instead use the function torch.cat\n",
        "tensor_a = torch.tensor([1, 2, 3, 4])\n",
        "tensor_b = torch.tensor([5, 6, 7])\n",
        "tensor_c = torch.cat((tensor_a, tensor_b))\n",
        "print(tensor_c)\n",
        "\n",
        "# We can concatenate any number of tensors at the same time\n",
        "tensor_d = torch.cat((tensor_a, tensor_a, tensor_b))\n",
        "print(tensor_d)"
      ],
      "execution_count": null,
      "outputs": [
        {
          "output_type": "stream",
          "text": [
            "tensor([1, 2, 3, 4, 5, 6, 7])\n",
            "tensor([1, 2, 3, 4, 1, 2, 3, 4, 5, 6, 7])\n"
          ],
          "name": "stdout"
        }
      ]
    },
    {
      "cell_type": "code",
      "metadata": {
        "id": "4wMpBfxzBvMl",
        "colab": {
          "base_uri": "https://localhost:8080/"
        },
        "outputId": "fb4d673b-e2b7-474d-d756-9f1f537818af"
      },
      "source": [
        "# Let's put together some dummy data.\n",
        "# Each tensor will contain the age, height, and weight of a different person\n",
        "alice_data = torch.tensor([36, 159, 68])\n",
        "bob_data = torch.tensor([29, 174, 76])\n",
        "print(alice_data, alice_data.shape)\n",
        "print(bob_data, bob_data.shape)\n",
        "\n",
        "# Now we'll create a 2x3 matrix where each row is a person's data - we have two\n",
        "# options for this.\n",
        "# Option 1:\n",
        "# - Convert each tensor into a 1x3 matrix\n",
        "alice_data_1 = alice_data.reshape((1, -1))\n",
        "bob_data_1 = bob_data.reshape((1, -1))\n",
        "# - Concatenate the tensors along the first dimension\n",
        "data_matrix_1 = torch.cat((alice_data_1, bob_data_1), dim=0)\n",
        "print(data_matrix_1)\n",
        "\n",
        "# Option 2:\n",
        "# - Use the stack function!\n",
        "data_matrix_2 = torch.stack((alice_data, bob_data), dim=0)\n",
        "print(data_matrix_2)"
      ],
      "execution_count": null,
      "outputs": [
        {
          "output_type": "stream",
          "text": [
            "tensor([ 36, 159,  68]) torch.Size([3])\n",
            "tensor([ 29, 174,  76]) torch.Size([3])\n",
            "tensor([[ 36, 159,  68],\n",
            "        [ 29, 174,  76]])\n",
            "tensor([[ 36, 159,  68],\n",
            "        [ 29, 174,  76]])\n"
          ],
          "name": "stdout"
        }
      ]
    },
    {
      "cell_type": "code",
      "metadata": {
        "id": "goC2RgqXBvMo",
        "colab": {
          "base_uri": "https://localhost:8080/"
        },
        "outputId": "0b6d0a42-6ec9-40ca-d52a-da5bf6db4568"
      },
      "source": [
        "# torch.stack allows us to stack tensors along an arbitrary dimension, as long\n",
        "# as the shapes are compatible. Thus, we can stack along the second dimension\n",
        "# and produce the transpose of our other matrix!\n",
        "print(torch.stack((alice_data, bob_data), dim=1))"
      ],
      "execution_count": null,
      "outputs": [
        {
          "output_type": "stream",
          "text": [
            "tensor([[ 36,  29],\n",
            "        [159, 174],\n",
            "        [ 68,  76]])\n"
          ],
          "name": "stdout"
        }
      ]
    },
    {
      "cell_type": "markdown",
      "metadata": {
        "id": "3UgacTWyOpnu"
      },
      "source": [
        "#### Exercise 5\n",
        "<font color='red'>In the next cell, write a function called `add_person` that takes a matrix (like `data_matrix_1` in the previous cell), and a tensor `new_person` of a person's age, height and weight. It should concatenate the new person to the end of the given matrix and return it. Hint: you need to  reshape the new_person tensor into a 2D matrix first before you can concatenate it. You can not directly concatenate a 1D tensor onto the end of a 2D tensor.</font>\n",
        "\n",
        "_Ensure that you re-run the cell containing your solution any time you make changes._"
      ]
    },
    {
      "cell_type": "code",
      "metadata": {
        "id": "R30uKXeEOqgU"
      },
      "source": [
        "# TODO: Code your solution here\n",
        "\n",
        "# SOLUTION:\n",
        "def add_person(people, new_person):\n",
        "    return torch.cat((people, new_person.reshape((1, -1))), 0)"
      ],
      "execution_count": null,
      "outputs": []
    },
    {
      "cell_type": "code",
      "metadata": {
        "id": "GGDTzqFpPLBh",
        "colab": {
          "base_uri": "https://localhost:8080/"
        },
        "outputId": "e509e7a2-9363-4c05-aa22-16e758b19b4c"
      },
      "source": [
        "# Test your solution here\n",
        "charlie_data = torch.tensor([39, 166, 74])\n",
        "dennis_data = torch.tensor([41, 183, 87])\n",
        "\n",
        "data_matrix_3 = add_person(data_matrix_1, charlie_data)\n",
        "print(data_matrix_3)\n",
        "# should output [[36, 159, 68],\n",
        "#                [29, 174, 76],\n",
        "#                [39, 166, 74]]\n",
        "\n",
        "data_matrix_3 = add_person(data_matrix_3, dennis_data)\n",
        "print(data_matrix_3)\n",
        "# should output [[36, 159, 68],\n",
        "#                [29, 174, 76],\n",
        "#                [39, 166, 74]\n",
        "#                [41, 183, 87]]"
      ],
      "execution_count": null,
      "outputs": [
        {
          "output_type": "stream",
          "text": [
            "tensor([[ 36, 159,  68],\n",
            "        [ 29, 174,  76],\n",
            "        [ 39, 166,  74]])\n",
            "tensor([[ 36, 159,  68],\n",
            "        [ 29, 174,  76],\n",
            "        [ 39, 166,  74],\n",
            "        [ 41, 183,  87]])\n"
          ],
          "name": "stdout"
        }
      ]
    },
    {
      "cell_type": "markdown",
      "metadata": {
        "id": "34s9iu_BBvMs"
      },
      "source": [
        "#### Advanced indexing\n",
        "To practice indexing into different dimensions of a tensor, let's make some dummy image data consisting of red, green and blue values. In Pytorch, this is represented as a 3-dimensional tensor, where the shape is `(3, height, width)`, where the 3 is for the colour channels R, G, and B."
      ]
    },
    {
      "cell_type": "code",
      "metadata": {
        "id": "TDKPQphhBvMu",
        "colab": {
          "base_uri": "https://localhost:8080/"
        },
        "outputId": "ea6fabc4-0e17-4b66-ad52-f5ef465363f4"
      },
      "source": [
        "# So, let's create some random image-data!\n",
        "num_channels = 3  # the colour channels R, G, B\n",
        "height = 15\n",
        "width = 30\n",
        "\n",
        "img = torch.rand(num_channels, height, width)\n",
        "print(img.shape)"
      ],
      "execution_count": null,
      "outputs": [
        {
          "output_type": "stream",
          "text": [
            "torch.Size([3, 15, 30])\n"
          ],
          "name": "stdout"
        }
      ]
    },
    {
      "cell_type": "code",
      "metadata": {
        "id": "i1GXz3lSSXj6"
      },
      "source": [
        "# Before continuing, run this cell to import a library and set up a helper\n",
        "# function to display images\n",
        "import matplotlib.pyplot as plt\n",
        "\n",
        "def plt_img_tensor(tensor):\n",
        "    \"\"\"Plot an image tensor using pyplot\"\"\"\n",
        "    if tensor.ndim == 3:\n",
        "        tensor = tensor.permute(1, 2, 0)\n",
        "    plt.imshow(tensor.detach().cpu().numpy(), cmap='Greys_r')\n",
        "    plt.clim(0, 1)\n",
        "    plt.show()"
      ],
      "execution_count": null,
      "outputs": []
    },
    {
      "cell_type": "code",
      "metadata": {
        "scrolled": false,
        "id": "BUWkDh9TBvMx",
        "colab": {
          "base_uri": "https://localhost:8080/",
          "height": 215
        },
        "outputId": "bb398e1f-aa1a-4984-fe48-01496d0763e9"
      },
      "source": [
        "# Let's have a look at the beautiful image we created\n",
        "plt_img_tensor(img)"
      ],
      "execution_count": null,
      "outputs": [
        {
          "output_type": "display_data",
          "data": {
            "image/png": "[encoded data removed]",
            "text/plain": [
              "<Figure size 432x288 with 1 Axes>"
            ]
          },
          "metadata": {
            "tags": [],
            "needs_background": "light"
          }
        }
      ]
    },
    {
      "cell_type": "code",
      "metadata": {
        "id": "YapepBmoTSky",
        "colab": {
          "base_uri": "https://localhost:8080/",
          "height": 232
        },
        "outputId": "d9239826-c30f-410e-bf21-4526bb890f01"
      },
      "source": [
        "# As the first dimension is the colour channels, we can view just the green channel\n",
        "# by indexing into the first dimension\n",
        "green_channel = img[1]\n",
        "plt_img_tensor(green_channel)\n",
        "print(green_channel.shape)"
      ],
      "execution_count": null,
      "outputs": [
        {
          "output_type": "display_data",
          "data": {
            "image/png": "[encoded data removed]",
            "text/plain": [
              "<Figure size 432x288 with 1 Axes>"
            ]
          },
          "metadata": {
            "tags": [],
            "needs_background": "light"
          }
        },
        {
          "output_type": "stream",
          "text": [
            "torch.Size([15, 30])\n"
          ],
          "name": "stdout"
        }
      ]
    },
    {
      "cell_type": "markdown",
      "metadata": {
        "id": "ESzhmVqIBvM0"
      },
      "source": [
        "#### Exercise 6\n",
        "<font color='red'>In the next cell, store the blue channel of the image in a tensor called `blue_channel`.</font>\n",
        "\n",
        "_Ensure that you re-run the cell containing your solution any time you make changes._"
      ]
    },
    {
      "cell_type": "code",
      "metadata": {
        "id": "nCjreXh2BvM0",
        "colab": {
          "base_uri": "https://localhost:8080/",
          "height": 232
        },
        "outputId": "a7d79919-2cbb-48fc-d162-7c7a1b48207d"
      },
      "source": [
        "# TODO: Code your solution here\n",
        "\n",
        "# SOLUTION:\n",
        "blue_channel = img[2]\n",
        "print(blue_channel.shape)"
      ],
      "execution_count": null,
      "outputs": [
        {
          "output_type": "stream",
          "text": [
            "torch.Size([15, 30])\n"
          ],
          "name": "stdout"
        },
        {
          "output_type": "display_data",
          "data": {
            "image/png": "[encoded data removed]",
            "text/plain": [
              "<Figure size 432x288 with 1 Axes>"
            ]
          },
          "metadata": {
            "tags": [],
            "needs_background": "light"
          }
        }
      ]
    },
    {
      "cell_type": "code",
      "metadata": {
        "id": "TsW_8KU_BvM5",
        "colab": {
          "base_uri": "https://localhost:8080/"
        },
        "outputId": "d42685b8-a4f8-4474-89c9-41c5d5c562b9"
      },
      "source": [
        "# Test your solution here\n",
        "print(blue_channel.shape == (height, width))  # Should output True\n",
        "\n",
        "# Note that the above test doesn't confirm that you have the right colour channel,\n",
        "# only that you have *a* colour channel."
      ],
      "execution_count": null,
      "outputs": [
        {
          "output_type": "stream",
          "text": [
            "True\n"
          ],
          "name": "stdout"
        }
      ]
    },
    {
      "cell_type": "code",
      "metadata": {
        "scrolled": false,
        "id": "F88LCtmYBvM8",
        "colab": {
          "base_uri": "https://localhost:8080/"
        },
        "outputId": "3f9b00f3-ad27-4db5-cafe-1cee929b0370"
      },
      "source": [
        "# Let's try accessing values of specific pixels\n",
        "# First, we'll access the green value of the top-left pixel (second colour-channel, first row, first column)\n",
        "green_first_row = green_channel[0]\n",
        "green_first_pixel = green_first_row[0]\n",
        "print(green_first_pixel)\n",
        "\n",
        "# We can access the same information using a single line\n",
        "print(img[1, 0, 0])"
      ],
      "execution_count": null,
      "outputs": [
        {
          "output_type": "stream",
          "text": [
            "tensor(0.9503)\n",
            "tensor(0.9503)\n"
          ],
          "name": "stdout"
        }
      ]
    },
    {
      "cell_type": "code",
      "metadata": {
        "id": "pxUM_YKdBvNA",
        "colab": {
          "base_uri": "https://localhost:8080/"
        },
        "outputId": "e2e7a6c4-f142-492c-906f-725163088712"
      },
      "source": [
        "# We've now seen how to access a row of green values, but how would we get all\n",
        "# RGB values for an entire row? Torch allows us to skip indexing on a dimension,\n",
        "# effectively saying \"give me everything in this dimension\".\n",
        "\n",
        "# Let's start with a simpler example before we return to the image.\n",
        "# We'll begin with a 3x3 matrix\n",
        "square_mat = torch.rand(3, 3)\n",
        "print(square_mat)\n",
        "\n",
        "# We can easily take the first row\n",
        "print(square_mat[0])\n",
        "\n",
        "# How do we take the first column? \n",
        "# Remember how we saw the ':' symbol to take a slice? If we don't provide a start\n",
        "# or end index, we actually ask for *all* of the values in that dimension!\n",
        "\n",
        "# So here we use the symbol to take everything in the first dimension, then\n",
        "# choose an index in the second (column) dimension. This gives us a column\n",
        "print(square_mat[:, 0])\n",
        "\n",
        "# Note that it will appear as a row when printed to the screen, but the\n",
        "# important thing is that we have the values of the column we wanted."
      ],
      "execution_count": null,
      "outputs": [
        {
          "output_type": "stream",
          "text": [
            "tensor([[0.8483, 0.3618, 0.5887],\n",
            "        [0.9066, 0.3573, 0.3920],\n",
            "        [0.4713, 0.3451, 0.4211]])\n",
            "tensor([0.8483, 0.3618, 0.5887])\n",
            "tensor([0.8483, 0.9066, 0.4713])\n"
          ],
          "name": "stdout"
        }
      ]
    },
    {
      "cell_type": "code",
      "metadata": {
        "id": "TODORYImBvNE",
        "colab": {
          "base_uri": "https://localhost:8080/"
        },
        "outputId": "7c928330-4c53-468a-94f6-af816b2a1300"
      },
      "source": [
        "# Back to the image example, how would we extract the first row of RGB values?\n",
        "# Think about it in terms of what each dimension represents\n",
        "# The first dimension is the colour channels - we want all of them (:)\n",
        "# The second dimension is the rows - we want the first row (0)\n",
        "# The third dimension is the columns - we want all of them (:)\n",
        "rgb_row = img[:, 0, :]\n",
        "print(rgb_row.shape)\n",
        "\n",
        "# Great! We have a 3x30 matrix, which is num_channels x width.\n",
        "# However, we can write it in a slightly simpler way - we don't need to specify that we want everything\n",
        "# in the last dimension, as this is the default behaviour.\n",
        "rgb_row = img[:, 0]"
      ],
      "execution_count": null,
      "outputs": [
        {
          "output_type": "stream",
          "text": [
            "torch.Size([3, 30])\n"
          ],
          "name": "stdout"
        }
      ]
    },
    {
      "cell_type": "markdown",
      "metadata": {
        "id": "cH70lC3RBvNJ"
      },
      "source": [
        "<font color='red'>The next cell, extracts the RGB values of the first column of the image and stores it in a variable called `rgb_col`.</font> \\\n",
        "\n",
        "_Ensure that you re-run the cell containing your solution any time you make changes._"
      ]
    },
    {
      "cell_type": "code",
      "metadata": {
        "id": "EicS3TJJBvNJ",
        "colab": {
          "base_uri": "https://localhost:8080/"
        },
        "outputId": "9656aa8e-9a49-42b4-8ebc-bf92cc36d2ec"
      },
      "source": [
        "\n",
        "rgb_col = img[:, :, 0]\n",
        "print(rgb_col.shape == (num_channels, height))  "
      ],
      "execution_count": null,
      "outputs": [
        {
          "output_type": "stream",
          "text": [
            "True\n"
          ],
          "name": "stdout"
        }
      ]
    },
    {
      "cell_type": "markdown",
      "metadata": {
        "id": "cXHVE54pBvNQ"
      },
      "source": [
        "#### Exercise 7\n",
        "<font color='red'>In the next cell, extract the RGB values of the *last* column of the image and store it in a variable called `rgb_col`. Hint the solution is really similar to the previous cell.</font> \\\n",
        "Remember _negative_ indexing?\n",
        "\n",
        "_Ensure that you re-run the cell containing your solution any time you make changes._"
      ]
    },
    {
      "cell_type": "code",
      "metadata": {
        "id": "L0sxb49oBvNQ"
      },
      "source": [
        "# TODO: Code your solution here\n",
        "\n",
        "# SOLUTION\n",
        "rgb_col = img[:, :, -1]"
      ],
      "execution_count": null,
      "outputs": []
    },
    {
      "cell_type": "code",
      "metadata": {
        "id": "lCp8NtxGBvNU",
        "colab": {
          "base_uri": "https://localhost:8080/"
        },
        "outputId": "bcec2f5f-531c-4986-b438-24de7b4552e3"
      },
      "source": [
        "# Test your solution here\n",
        "print(rgb_col.shape == (num_channels, height))  # Should output True\n",
        "\n",
        "# Note that the above test doesn't confirm that you have the right column, only that you have *a* column."
      ],
      "execution_count": null,
      "outputs": [
        {
          "output_type": "stream",
          "text": [
            "True\n"
          ],
          "name": "stdout"
        }
      ]
    },
    {
      "cell_type": "markdown",
      "metadata": {
        "id": "EXwm_A1-BvNY"
      },
      "source": [
        "#### Exercise 8 (Challenge)\n",
        "<font color='red'>In the next cell, add another row of random RGB data to the image, and store the new image in a variable called `new_img`.</font> \\\n",
        "You'll need to:\n",
        "- Figure out the required shape of the new row\n",
        "- Create random values of that shape\n",
        "- Concatenate the new values to the image\n",
        "\n",
        "_Ensure that you re-run the cell containing your solution any time you make changes._"
      ]
    },
    {
      "cell_type": "code",
      "metadata": {
        "id": "AQB5jJITBvNY"
      },
      "source": [
        "# TODO: Code your solution here\n",
        "\n",
        "# SOLUTION\n",
        "new_row = torch.rand(num_channels, 1, width)\n",
        "new_img = torch.cat((img, new_row), 1)"
      ],
      "execution_count": null,
      "outputs": []
    },
    {
      "cell_type": "code",
      "metadata": {
        "id": "W8AJW2PhBvNf",
        "colab": {
          "base_uri": "https://localhost:8080/",
          "height": 243
        },
        "outputId": "28866483-2198-4244-9a1b-e0d79f20979a"
      },
      "source": [
        "# Test your solution here\n",
        "print(new_img.shape == (num_channels, height + 1, width))  # Should output True\n",
        "\n",
        "# View the new image\n",
        "plt_img_tensor(new_img)"
      ],
      "execution_count": null,
      "outputs": [
        {
          "output_type": "stream",
          "text": [
            "True\n"
          ],
          "name": "stdout"
        },
        {
          "output_type": "display_data",
          "data": {
            "image/png": "[encoded data removed]",
            "text/plain": [
              "<Figure size 432x288 with 1 Axes>"
            ]
          },
          "metadata": {
            "tags": [],
            "needs_background": "light"
          }
        }
      ]
    }
  ]
}